{
 "cells": [
  {
   "cell_type": "code",
   "execution_count": 37,
   "metadata": {},
   "outputs": [],
   "source": [
    "from selenium import webdriver\n",
    "import time \n",
    "from selenium.webdriver.support.select import Select\n"
   ]
  },
  {
   "cell_type": "code",
   "execution_count": 40,
   "metadata": {},
   "outputs": [
    {
     "name": "stderr",
     "output_type": "stream",
     "text": [
      "<ipython-input-40-cbc0a524e878>:5: DeprecationWarning: executable_path has been deprecated, please pass in a Service object\n",
      "  driver=webdriver.Chrome(executable_path='/Users/admin/Desktop/chromedriver 4')\n",
      "<ipython-input-40-cbc0a524e878>:12: DeprecationWarning: find_element_by_* commands are deprecated. Please use find_element() instead\n",
      "  cookie=driver.find_element_by_xpath('//div[@class=\"privacy-prompt-button primary-button ccmgt_accept_button \"]')\n",
      "<ipython-input-40-cbc0a524e878>:20: DeprecationWarning: find_element_by_* commands are deprecated. Please use find_element() instead\n",
      "  job_title=driver.find_element_by_id('keywords')\n",
      "<ipython-input-40-cbc0a524e878>:26: DeprecationWarning: find_element_by_* commands are deprecated. Please use find_element() instead\n",
      "  location=driver.find_element_by_id('location')\n",
      "<ipython-input-40-cbc0a524e878>:33: DeprecationWarning: find_element_by_* commands are deprecated. Please use find_element() instead\n",
      "  dropdown=driver.find_element_by_id('Radius')\n",
      "<ipython-input-40-cbc0a524e878>:39: DeprecationWarning: find_element_by_* commands are deprecated. Please use find_element() instead\n",
      "  search=driver.find_element_by_xpath('//input[@value=\"Search\"]')\n",
      "<ipython-input-40-cbc0a524e878>:43: DeprecationWarning: find_elements_by_* commands are deprecated. Please use find_elements() instead\n",
      "  titles=driver.find_elements_by_xpath('//div[@class=\"sc-fzooss kBgtGS\"]/a/h2')\n",
      "<ipython-input-40-cbc0a524e878>:44: DeprecationWarning: find_elements_by_* commands are deprecated. Please use find_elements() instead\n",
      "  companies=driver.find_elements_by_xpath('//div[@class=\"sc-fzoiQi kuzZTz\"]')\n",
      "<ipython-input-40-cbc0a524e878>:45: DeprecationWarning: find_elements_by_* commands are deprecated. Please use find_elements() instead\n",
      "  locations=driver.find_elements_by_xpath('//li[@class=\"sc-fznXWL hSqkJy\"]')\n",
      "<ipython-input-40-cbc0a524e878>:46: DeprecationWarning: find_elements_by_* commands are deprecated. Please use find_elements() instead\n",
      "  salaries=driver.find_elements_by_xpath('//dl[@class=\"sc-fzoJMP jpodhy\"]')\n",
      "<ipython-input-40-cbc0a524e878>:47: DeprecationWarning: find_elements_by_* commands are deprecated. Please use find_elements() instead\n",
      "  descriptions=driver.find_elements_by_xpath('//a[@class=\"sc-fznWOq sc-fzolEj kZvhzt\"]/span')\n",
      "<ipython-input-40-cbc0a524e878>:55: DeprecationWarning: find_element_by_* commands are deprecated. Please use find_element() instead\n",
      "  next=driver.find_element_by_xpath('//a[@aria-label=\"Next\"]')\n"
     ]
    }
   ],
   "source": [
    "with open('job_scrapping_pagination.csv','w') as file : \n",
    "    file.write(\"Job_title ; location ; Salary ; company ; Description \\n\" )\n",
    "    \n",
    "    \n",
    "driver=webdriver.Chrome(executable_path='/Users/admin/Desktop/chromedriver 4')\n",
    "driver.get('https://www.jobsite.co.uk/')\n",
    "\n",
    "driver.maximize_window()\n",
    "time.sleep(1)\n",
    "\n",
    "#pour les cookies\n",
    "cookie=driver.find_element_by_xpath('//div[@class=\"privacy-prompt-button primary-button ccmgt_accept_button \"]')\n",
    "try : \n",
    "    cookie.click()\n",
    "\n",
    "except :\n",
    "    pass\n",
    "\n",
    " #pour le titre \n",
    "job_title=driver.find_element_by_id('keywords')\n",
    "job_title.click()\n",
    "job_title.send_keys('Software Engineer')\n",
    "time.sleep(1)\n",
    "\n",
    "#pour preciser l'adresse\n",
    "location=driver.find_element_by_id('location')\n",
    "location.click()\n",
    "location.send_keys('Manchester')\n",
    "time.sleep(1)\n",
    "\n",
    "\n",
    "#pour preciser le rayon de recherche \n",
    "dropdown=driver.find_element_by_id('Radius')\n",
    "radius=Select(dropdown) \n",
    "radius.select_by_visible_text('30 miles')\n",
    "time.sleep(1)\n",
    "\n",
    "\n",
    "search=driver.find_element_by_xpath('//input[@value=\"Search\"]')\n",
    "search.click()\n",
    "time.sleep(5)\n",
    "for k in range(3):\n",
    "    titles=driver.find_elements_by_xpath('//div[@class=\"sc-fzooss kBgtGS\"]/a/h2')\n",
    "    companies=driver.find_elements_by_xpath('//div[@class=\"sc-fzoiQi kuzZTz\"]')\n",
    "    locations=driver.find_elements_by_xpath('//li[@class=\"sc-fznXWL hSqkJy\"]')\n",
    "    salaries=driver.find_elements_by_xpath('//dl[@class=\"sc-fzoJMP jpodhy\"]')\n",
    "    descriptions=driver.find_elements_by_xpath('//a[@class=\"sc-fznWOq sc-fzolEj kZvhzt\"]/span')\n",
    "\n",
    "    with open('job_scrapping_pagination.csv',\"a\") as file : \n",
    "        for i in range(len(titles))  :\n",
    "            file.write(titles[i].text + \";\" + locations[i].text + \";\" + salaries[i].text + ';' + companies[i].text+\n",
    "                        ';' + descriptions[i].text+ \"\\n\")\n",
    "\n",
    "\n",
    "        next=driver.find_element_by_xpath('//a[@aria-label=\"Next\"]')\n",
    "        next.click()\n",
    "        time.sleep(5)\n",
    "    file.close()\n",
    "driver.close()\n",
    "    "
   ]
  },
  {
   "cell_type": "code",
   "execution_count": null,
   "metadata": {},
   "outputs": [],
   "source": []
  }
 ],
 "metadata": {
  "kernelspec": {
   "display_name": "Python 3",
   "language": "python",
   "name": "python3"
  },
  "language_info": {
   "codemirror_mode": {
    "name": "ipython",
    "version": 3
   },
   "file_extension": ".py",
   "mimetype": "text/x-python",
   "name": "python",
   "nbconvert_exporter": "python",
   "pygments_lexer": "ipython3",
   "version": "3.8.3"
  }
 },
 "nbformat": 4,
 "nbformat_minor": 4
}
